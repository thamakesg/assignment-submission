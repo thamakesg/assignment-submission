{
 "cells": [
  {
   "cell_type": "code",
   "execution_count": 14,
   "metadata": {},
   "outputs": [
    {
     "name": "stdout",
     "output_type": "stream",
     "text": [
      "[ 2  5  8 11 14 17 20 23 26 29 32 35 38 41 44 47 50]\n"
     ]
    }
   ],
   "source": [
    "#question 1\n",
    "import numpy as np\n",
    "arr=np.arange(2,51,3)\n",
    "print(arr)"
   ]
  },
  {
   "cell_type": "code",
   "execution_count": 13,
   "metadata": {},
   "outputs": [
    {
     "name": "stdout",
     "output_type": "stream",
     "text": [
      "enter first list\n",
      "1\n",
      "2\n",
      "3\n",
      "4\n",
      "5\n",
      "enter second list\n",
      "1\n",
      "2\n",
      "3\n",
      "4\n",
      "5\n",
      "[1, 2, 3, 4, 5]\n",
      "[1, 2, 3, 4, 5]\n",
      "first array \n",
      " [1 2 3 4 5]\n",
      "second array \n",
      " [1 2 3 4 5]\n",
      "cpncatenate array [1 2 3 4 5 1 2 3 4 5]\n",
      "Sorted arrays\n",
      "[1 1 2 2 3 3 4 4 5 5]\n"
     ]
    }
   ],
   "source": [
    "#question 2\n",
    "import numpy as np\n",
    "print(\"enter first list\")\n",
    "l=[int(input()) for i in range (5)]\n",
    "print(\"enter second list\")\n",
    "m=[int(input()) for i in range (5)]\n",
    "print(l)\n",
    "print(m)\n",
    "arr1=np.array(l)\n",
    "print(\"first array \\n\",arr1)\n",
    "arr2=np.array(m)\n",
    "print(\"second array \\n\",arr2)\n",
    "arr3=np.concatenate((arr1,arr2))\n",
    "print(\"cpncatenate array\",arr3)\n",
    "print(\"Sorted arrays\")\n",
    "print(np.sort(arr3))"
   ]
  },
  {
   "cell_type": "code",
   "execution_count": 8,
   "metadata": {},
   "outputs": [
    {
     "name": "stdout",
     "output_type": "stream",
     "text": [
      "[[1 2 3]\n",
      " [4 5 6]\n",
      " [7 8 9]]\n",
      "dimension of array 2\n",
      "size of array 9\n"
     ]
    }
   ],
   "source": [
    "#question 3\n",
    "arr=np.array([[1,2,3],[4,5,6],[7,8,9]])\n",
    "print(arr)\n",
    "print(\"dimension of array\",arr.ndim)\n",
    "print(\"size of array\",arr.size)"
   ]
  },
  {
   "cell_type": "code",
   "execution_count": 12,
   "metadata": {},
   "outputs": [
    {
     "name": "stdout",
     "output_type": "stream",
     "text": [
      "1\n",
      "[[0.834217   0.30495726 0.67563282 0.36489424 0.84175739]]\n",
      "2\n",
      "[[0.834217   0.30495726 0.67563282 0.36489424 0.84175739]]\n",
      "2\n"
     ]
    }
   ],
   "source": [
    "#question 4\n",
    "arr=np.random.rand(5,)\n",
    "print(arr.ndim)\n",
    "y=np.expand_dims(arr, axis=0) #with np.expand_dins\n",
    "print(y)\n",
    "print(y.ndim)\n",
    "x=arr[np.newaxis, :]#with np.newaxis adding new axis at start change dim from 2 to 3\n",
    "print(x)\n",
    "print(x.ndim)\n"
   ]
  },
  {
   "cell_type": "code",
   "execution_count": 6,
   "metadata": {},
   "outputs": [
    {
     "name": "stdout",
     "output_type": "stream",
     "text": [
      "[[0.91804014 0.40547095]\n",
      " [0.31605036 0.44638811]\n",
      " [0.635128   0.76545076]\n",
      " [0.74660641 0.3179813 ]]\n",
      "\n",
      "[[0.91804014 0.40547095 0.635128   0.76545076]\n",
      " [0.31605036 0.44638811 0.74660641 0.3179813 ]]\n"
     ]
    }
   ],
   "source": [
    "#question 5\n",
    "import numpy as np\n",
    "f=np.random.rand(2,2)\n",
    "r=np.random.rand(2,2)\n",
    "print(np.vstack((f,r)))#vertical stack\n",
    "print()\n",
    "print(np.hstack((f,r)))#horizontal stack"
   ]
  },
  {
   "cell_type": "code",
   "execution_count": 11,
   "metadata": {},
   "outputs": [
    {
     "name": "stdout",
     "output_type": "stream",
     "text": [
      "[1 2 3 4 5 6 7 8 9 1 2 3 4 5]\n",
      "[1 2 3 4 5 6 7 8 9]\n",
      "(array([1, 2, 3, 4, 5, 6, 7, 8, 9]), array([2, 2, 2, 2, 2, 1, 1, 1, 1], dtype=int64))\n"
     ]
    }
   ],
   "source": [
    "#Question 6\n",
    "arr=np.array([1,2,3,4,5,6,7,8,9,1,2,3,4,5])\n",
    "print(arr)\n",
    "print(np.unique(arr))#this shows unique items\n",
    "print(np.unique(arr,return_counts=True))#this shows items and count of them"
   ]
  },
  {
   "cell_type": "code",
   "execution_count": null,
   "metadata": {},
   "outputs": [],
   "source": []
  }
 ],
 "metadata": {
  "kernelspec": {
   "display_name": "Python 3",
   "language": "python",
   "name": "python3"
  },
  "language_info": {
   "codemirror_mode": {
    "name": "ipython",
    "version": 3
   },
   "file_extension": ".py",
   "mimetype": "text/x-python",
   "name": "python",
   "nbconvert_exporter": "python",
   "pygments_lexer": "ipython3",
   "version": "3.8.3"
  }
 },
 "nbformat": 4,
 "nbformat_minor": 4
}
