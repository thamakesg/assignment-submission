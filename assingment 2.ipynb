{
 "cells": [
  {
   "cell_type": "code",
   "execution_count": 8,
   "metadata": {},
   "outputs": [
    {
     "name": "stdout",
     "output_type": "stream",
     "text": [
      "enter 10 numbers:\n",
      "1\n",
      "2\n",
      "3\n",
      "4\n",
      "5\n",
      "6\n",
      "7\n",
      "8\n",
      "9\n",
      "10\n",
      "[2, 4, 6, 8, 10]\n"
     ]
    }
   ],
   "source": [
    "# Question 1\n",
    "l=[]\n",
    "print(\"enter 10 numbers:\")\n",
    "for i in range (0,10):\n",
    "    s=int(input())\n",
    "    if s%2==0:\n",
    "        l.append(s)\n",
    "print(l)"
   ]
  },
  {
   "cell_type": "code",
   "execution_count": 1,
   "metadata": {},
   "outputs": [
    {
     "name": "stdout",
     "output_type": "stream",
     "text": [
      "[0, 1, 4, 9, 16, 25, 36, 49, 64, 81]\n"
     ]
    }
   ],
   "source": [
    "#question 2\n",
    "# list comprehension is way to create a new list with or without condtion and can have multiple for loops\n",
    "#Syntax \n",
    "#output_list=[output_exp for var in input_list if (var satisfies this condition)]\n",
    "#example\n",
    "n_number=[n*n for n in range (0,10) ] #list comprehension\n",
    "print(n_number)"
   ]
  },
  {
   "cell_type": "code",
   "execution_count": 15,
   "metadata": {},
   "outputs": [
    {
     "name": "stdout",
     "output_type": "stream",
     "text": [
      "8\n",
      "{1: 1, 2: 4, 3: 9, 4: 16, 5: 25, 6: 36, 7: 49, 8: 64}\n"
     ]
    }
   ],
   "source": [
    "#question 3\n",
    "num=int(input(\"\"))\n",
    "d=dict()\n",
    "for i in range (1,num+1):\n",
    "    d[i]=i*i\n",
    "print(d)"
   ]
  },
  {
   "cell_type": "code",
   "execution_count": 22,
   "metadata": {
    "scrolled": true
   },
   "outputs": [
    {
     "name": "stdout",
     "output_type": "stream",
     "text": [
      "4\n",
      "UP 5\n",
      "DOWN 3\n",
      "LEFT 3\n",
      "RIGHT 2\n",
      "2\n"
     ]
    }
   ],
   "source": [
    "#Question 4\n",
    "import math\n",
    "x=y=0\n",
    "n=int(input())#number of directions \n",
    "for i in range (0,n):\n",
    "    movement=input().split(\" \")\n",
    "    if movement[0]==\"UP\":\n",
    "        x+=int(movement[1])\n",
    "    elif movement[0]==\"DOWN\":\n",
    "        x-=int(movement[1])\n",
    "    elif movement[0]==\"LEFT\":\n",
    "        y+=int(movement[1])\n",
    "    else:\n",
    "        y-=int(movement[1])\n",
    "result=math.sqrt(x**2+y**2)\n",
    "print(round(result))\n",
    "\n"
   ]
  },
  {
   "cell_type": "code",
   "execution_count": null,
   "metadata": {},
   "outputs": [],
   "source": []
  }
 ],
 "metadata": {
  "kernelspec": {
   "display_name": "Python 3",
   "language": "python",
   "name": "python3"
  },
  "language_info": {
   "codemirror_mode": {
    "name": "ipython",
    "version": 3
   },
   "file_extension": ".py",
   "mimetype": "text/x-python",
   "name": "python",
   "nbconvert_exporter": "python",
   "pygments_lexer": "ipython3",
   "version": "3.8.3"
  }
 },
 "nbformat": 4,
 "nbformat_minor": 4
}
